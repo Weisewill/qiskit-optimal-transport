{
 "cells": [
  {
   "cell_type": "code",
   "execution_count": 1,
   "id": "789cc6b4",
   "metadata": {},
   "outputs": [],
   "source": [
    "import qiskit\n",
    "# useful additional packages\n",
    "import matplotlib.pyplot as plt\n",
    "import matplotlib.axes as axes\n",
    "import numpy as np\n",
    "import networkx as nx\n",
    "\n",
    "from qiskit import Aer\n",
    "from qiskit.tools.visualization import plot_histogram\n",
    "from qiskit.circuit.library import TwoLocal\n",
    "from qiskit_optimization.applications import Maxcut, Tsp\n",
    "from qiskit.algorithms import VQE, NumPyMinimumEigensolver\n",
    "from qiskit.algorithms.optimizers import SPSA\n",
    "from qiskit.utils import algorithm_globals, QuantumInstance\n",
    "from qiskit_optimization.algorithms import MinimumEigenOptimizer\n",
    "from qiskit_optimization.problems import QuadraticProgram\n",
    "from docplex.mp.model import Model\n",
    "from qiskit_optimization.translators import from_docplex_mp\n",
    "from qiskit_optimization.algorithms import OptimizationResult\n",
    "\n",
    "from qiskit import Aer\n",
    "from qiskit.utils import algorithm_globals, QuantumInstance\n",
    "from qiskit.algorithms import QAOA, NumPyMinimumEigensolver\n",
    "\n",
    "import warnings\n",
    "warnings.filterwarnings(\"ignore\")"
   ]
  },
  {
   "cell_type": "markdown",
   "id": "0b1a133b",
   "metadata": {},
   "source": [
    "### Define a class inherites from the Qiskit's Optimization Applicaiton class for solving the Optimal Transport problem"
   ]
  },
  {
   "cell_type": "code",
   "execution_count": 2,
   "id": "3b1896c9",
   "metadata": {},
   "outputs": [],
   "source": [
    "from qiskit_optimization.applications.optimization_application import OptimizationApplication\n",
    "from typing import List, Union\n",
    "class OptimalTransport(OptimizationApplication):\n",
    "#class OptimalTransport():\n",
    "    \"\"\"Optimization Application for the optimal transport problem \\\n",
    "    using linear programming formulation.\n",
    "    Reference:\n",
    "        [1]: \"Computational Optimal Transport\"\n",
    "        https://arxiv.org/abs/1803.00567\n",
    "    \"\"\"\n",
    "    \n",
    "    def __init__(self, C: List[int], \\\n",
    "                 mu: List[int], \\\n",
    "                 nu: List[int], \\\n",
    "                 p_lower_bound: int, \\\n",
    "                 p_upper_bound: int) -> None:\n",
    "        \"\"\"\n",
    "        Args:\n",
    "            C: A 2D numpy array for the cost function\n",
    "            mu: A 1D array for the row marginal\n",
    "            nu: A 1D array for the columns marginal\n",
    "        \"\"\"\n",
    "        self._C = C\n",
    "        self._mu = mu\n",
    "        self._nu = nu\n",
    "        self._p_lower_bound = p_lower_bound\n",
    "        self._p_upper_bound = p_upper_bound\n",
    "        \n",
    "    def interpret(self, result: Union[OptimizationResult, np.ndarray]) -> List[int]:\n",
    "        \"\"\"Interpret a result as cost function in numpy array\n",
    "\n",
    "        Args:\n",
    "            result : The calculated result of the problem\n",
    "\n",
    "        Returns:\n",
    "            A numpy array of cost matrix\n",
    "        \"\"\"\n",
    "        x = self._result_to_x(result)\n",
    "        m, n = len(self._mu), len(self._nu)\n",
    "        return x.reshape(n, m).T\n",
    "        \n",
    "    def buildA(self):\n",
    "        \"\"\"Create a matrix to enforce the linear programming\n",
    "        constraints. See p.38 in the reference.\n",
    "        \n",
    "        Returns:\n",
    "            A: A matrix for the constraints.\n",
    "        \"\"\"\n",
    "        m, n = len(self._C), len(self._C[0])\n",
    "        A = np.zeros((m+n, m*n), dtype = np.float64)\n",
    "        for i in range(m):\n",
    "            for j in range(m*n):\n",
    "                if j % m == i:\n",
    "                    A[i][j] = 1.\n",
    "        i = m\n",
    "        j = 0\n",
    "        while i < m+n:\n",
    "            while j < (i - m + 1) * m:\n",
    "                A[i][j] = 1.\n",
    "                j+=1\n",
    "            i += 1\n",
    "        return A\n",
    "\n",
    "    def stackColumns(self, P):\n",
    "        \"\"\"Stack the columns of a matrix into a column array.\n",
    "        Args:\n",
    "            P: A 2D matrix.\n",
    "        \n",
    "        Return:\n",
    "            p: A 1D numpy array with stack of columns from a matrix.\n",
    "        \"\"\"\n",
    "        return P.T.reshape(-1, 1)\n",
    "        \n",
    "    def to_quadratic_program(self) -> QuadraticProgram:\n",
    "        \"\"\"Convert a optimal transport problem instance into a\n",
    "        :class:`~qiskit_optimization.problems.QuadraticProgram`\n",
    "\n",
    "        Returns:\n",
    "            The :class:`~qiskit_optimization.problems.QuadraticProgram` created\n",
    "            from the optimal transport problem instance.\n",
    "        \"\"\"\n",
    "        mdl = Model(\"Optimal Transport\")\n",
    "        c = self.stackColumns(self._C).T[0]\n",
    "        x = {i: mdl.integer_var(name=f\"x_{i}\", \\\n",
    "                                lb=self._p_lower_bound, \\\n",
    "                                ub=self._p_upper_bound) \\\n",
    "             for i in range(len(c))}\n",
    "        mdl.minimize(mdl.sum(c[i]*x[i] for i in x ))\n",
    "        A = self.buildA()\n",
    "        marginal = np.append(self._mu, self._nu)\n",
    "        for row in range(len(A)):\n",
    "            mdl.add_constraint(mdl.sum(A[row][i]*x[i] for i in x)\\\n",
    "                               == marginal[row])\n",
    "        op = from_docplex_mp(mdl)\n",
    "        return op\n",
    "        "
   ]
  },
  {
   "cell_type": "markdown",
   "id": "e7958f58",
   "metadata": {},
   "source": [
    "### Define a OT problem"
   ]
  },
  {
   "cell_type": "code",
   "execution_count": 3,
   "id": "9db83939",
   "metadata": {},
   "outputs": [],
   "source": [
    "C = np.array([[1,2,3],[9,1,4]])\n",
    "mu = np.array([3,1])\n",
    "nu = np.array([1,2,1])\n",
    "ot = OptimalTransport(C, mu, nu, 0, 3)\n",
    "op = ot.to_quadratic_program()"
   ]
  },
  {
   "cell_type": "code",
   "execution_count": 4,
   "id": "57bc1b1e",
   "metadata": {},
   "outputs": [
    {
     "name": "stdout",
     "output_type": "stream",
     "text": [
      "Problem name: Optimal Transport\n",
      "\n",
      "Minimize\n",
      "  x_0 + 9*x_1 + 2*x_2 + x_3 + 3*x_4 + 4*x_5\n",
      "\n",
      "Subject to\n",
      "  Linear constraints (5)\n",
      "    x_0 + x_2 + x_4 == 3  'c0'\n",
      "    x_1 + x_3 + x_5 == 1  'c1'\n",
      "    x_0 + x_1 == 1  'c2'\n",
      "    x_2 + x_3 == 2  'c3'\n",
      "    x_4 + x_5 == 1  'c4'\n",
      "\n",
      "  Integer variables (6)\n",
      "    0 <= x_0 <= 3\n",
      "    0 <= x_1 <= 3\n",
      "    0 <= x_2 <= 3\n",
      "    0 <= x_3 <= 3\n",
      "    0 <= x_4 <= 3\n",
      "    0 <= x_5 <= 3\n",
      "\n"
     ]
    }
   ],
   "source": [
    "print(op.prettyprint())"
   ]
  },
  {
   "cell_type": "markdown",
   "id": "7d5f9d37",
   "metadata": {},
   "source": [
    "### Map to the Ising problem"
   ]
  },
  {
   "cell_type": "code",
   "execution_count": 5,
   "id": "08aefb03",
   "metadata": {},
   "outputs": [
    {
     "name": "stdout",
     "output_type": "stream",
     "text": [
      "Offset: 2378.5\n",
      "Ising Hamiltonian:\n",
      "-214.0 * IIIIIIIIIIIZ\n",
      "- 428.0 * IIIIIIIIIIZI\n",
      "- 340.0 * IIIIIIIIIZII\n",
      "- 680.0 * IIIIIIIIZIII\n",
      "- 153.5 * IIIIIIIZIIII\n",
      "- 307.0 * IIIIIIZIIIII\n",
      "- 275.0 * IIIIIZIIIIII\n",
      "- 550.0 * IIIIZIIIIIII\n",
      "- 215.0 * IIIZIIIIIIII\n",
      "- 430.0 * IIZIIIIIIIII\n",
      "- 337.5 * IZIIIIIIIIII\n",
      "- 675.0 * ZIIIIIIIIIII\n",
      "+ 122.0 * IIIIIIIIIIZZ\n",
      "+ 30.5 * IIIIIIIIIZIZ\n",
      "+ 61.0 * IIIIIIIIIZZI\n",
      "+ 61.0 * IIIIIIIIZIIZ\n",
      "+ 122.0 * IIIIIIIIZIZI\n",
      "+ 122.0 * IIIIIIIIZZII\n",
      "+ 30.5 * IIIIIIIZIIIZ\n",
      "+ 61.0 * IIIIIIIZIIZI\n",
      "+ 61.0 * IIIIIIZIIIIZ\n",
      "+ 122.0 * IIIIIIZIIIZI\n",
      "+ 122.0 * IIIIIIZZIIII\n",
      "+ 30.5 * IIIIIZIIIZII\n",
      "+ 61.0 * IIIIIZIIZIII\n",
      "+ 30.5 * IIIIIZIZIIII\n",
      "+ 61.0 * IIIIIZZIIIII\n",
      "+ 61.0 * IIIIZIIIIZII\n",
      "+ 122.0 * IIIIZIIIZIII\n",
      "+ 61.0 * IIIIZIIZIIII\n",
      "+ 122.0 * IIIIZIZIIIII\n",
      "+ 122.0 * IIIIZZIIIIII\n",
      "+ 30.5 * IIIZIIIIIIIZ\n",
      "+ 61.0 * IIIZIIIIIIZI\n",
      "+ 30.5 * IIIZIIIZIIII\n",
      "+ 61.0 * IIIZIIZIIIII\n",
      "+ 61.0 * IIZIIIIIIIIZ\n",
      "+ 122.0 * IIZIIIIIIIZI\n",
      "+ 61.0 * IIZIIIIZIIII\n",
      "+ 122.0 * IIZIIIZIIIII\n",
      "+ 122.0 * IIZZIIIIIIII\n",
      "+ 30.5 * IZIIIIIIIZII\n",
      "+ 61.0 * IZIIIIIIZIII\n",
      "+ 30.5 * IZIIIZIIIIII\n",
      "+ 61.0 * IZIIZIIIIIII\n",
      "+ 30.5 * IZIZIIIIIIII\n",
      "+ 61.0 * IZZIIIIIIIII\n",
      "+ 61.0 * ZIIIIIIIIZII\n",
      "+ 122.0 * ZIIIIIIIZIII\n",
      "+ 61.0 * ZIIIIZIIIIII\n",
      "+ 122.0 * ZIIIZIIIIIII\n",
      "+ 61.0 * ZIIZIIIIIIII\n",
      "+ 122.0 * ZIZIIIIIIIII\n",
      "+ 122.0 * ZZIIIIIIIIII\n"
     ]
    }
   ],
   "source": [
    "from qiskit_optimization.converters import QuadraticProgramToQubo\n",
    "\n",
    "qp2qubo = QuadraticProgramToQubo()\n",
    "qubo = qp2qubo.convert(op)\n",
    "qubitOp, offset = qubo.to_ising()\n",
    "print(\"Offset:\", offset)\n",
    "print(\"Ising Hamiltonian:\")\n",
    "print(str(qubitOp))"
   ]
  },
  {
   "cell_type": "markdown",
   "id": "8118cf9d",
   "metadata": {},
   "source": [
    "### Check the result by classical solver"
   ]
  },
  {
   "cell_type": "code",
   "execution_count": 6,
   "id": "031844a2",
   "metadata": {},
   "outputs": [
    {
     "name": "stdout",
     "output_type": "stream",
     "text": [
      "objective function value: 7.0\n",
      "variable values: x_0=1.0, x_1=0.0, x_2=1.0, x_3=1.0, x_4=1.0, x_5=0.0\n",
      "status: SUCCESS\n",
      "Result cost function:\n",
      "[[1. 1. 1.]\n",
      " [0. 1. 0.]]\n"
     ]
    }
   ],
   "source": [
    "# solving Quadratic Program using exact classical eigensolver\n",
    "exact = MinimumEigenOptimizer(NumPyMinimumEigensolver())\n",
    "classical_result = exact.solve(op)\n",
    "print(classical_result.prettyprint())\n",
    "print(\"Result cost function:\")\n",
    "print(ot.interpret(classical_result))"
   ]
  },
  {
   "cell_type": "markdown",
   "id": "554ca987",
   "metadata": {},
   "source": [
    "### Solve it by quantum computer"
   ]
  },
  {
   "cell_type": "code",
   "execution_count": 7,
   "id": "397d9fb1",
   "metadata": {},
   "outputs": [],
   "source": [
    "algorithm_globals.random_seed = 123\n",
    "seed = 321\n",
    "backend = Aer.get_backend(\"aer_simulator_statevector\")\n",
    "quantum_instance = QuantumInstance(backend, seed_simulator=seed, seed_transpiler=seed)"
   ]
  },
  {
   "cell_type": "code",
   "execution_count": 8,
   "id": "1ae3ca24",
   "metadata": {},
   "outputs": [],
   "source": [
    "# QAOA\n",
    "meo = MinimumEigenOptimizer(min_eigen_solver=QAOA(reps=1, quantum_instance=quantum_instance))\n",
    "qaoa_result = meo.solve(op)\n"
   ]
  },
  {
   "cell_type": "code",
   "execution_count": 9,
   "id": "7c8a4eee",
   "metadata": {},
   "outputs": [
    {
     "name": "stdout",
     "output_type": "stream",
     "text": [
      "objective function value: 7.0\n",
      "variable values: x_0=1.0, x_1=0.0, x_2=1.0, x_3=1.0, x_4=1.0, x_5=0.0\n",
      "status: SUCCESS\n",
      "Result cost function:\n",
      "[[1. 1. 1.]\n",
      " [0. 1. 0.]]\n"
     ]
    }
   ],
   "source": [
    "print(qaoa_result.prettyprint())\n",
    "print(\"Result cost function:\")\n",
    "print(ot.interpret(qaoa_result))"
   ]
  },
  {
   "cell_type": "code",
   "execution_count": null,
   "id": "b6a27fd0",
   "metadata": {},
   "outputs": [],
   "source": []
  }
 ],
 "metadata": {
  "kernelspec": {
   "display_name": "Python 3 (ipykernel)",
   "language": "python",
   "name": "python3"
  },
  "language_info": {
   "codemirror_mode": {
    "name": "ipython",
    "version": 3
   },
   "file_extension": ".py",
   "mimetype": "text/x-python",
   "name": "python",
   "nbconvert_exporter": "python",
   "pygments_lexer": "ipython3",
   "version": "3.7.4"
  }
 },
 "nbformat": 4,
 "nbformat_minor": 5
}
