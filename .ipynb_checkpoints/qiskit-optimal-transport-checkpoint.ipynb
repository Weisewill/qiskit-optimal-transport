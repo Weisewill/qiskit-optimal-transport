{
 "cells": [
  {
   "cell_type": "code",
   "execution_count": 1,
   "id": "789cc6b4",
   "metadata": {},
   "outputs": [],
   "source": [
    "import qiskit\n",
    "# useful additional packages\n",
    "import matplotlib.pyplot as plt\n",
    "import matplotlib.axes as axes\n",
    "import numpy as np\n",
    "import networkx as nx\n",
    "\n",
    "from qiskit import Aer\n",
    "from qiskit.tools.visualization import plot_histogram\n",
    "from qiskit.circuit.library import TwoLocal\n",
    "from qiskit_optimization.applications import Maxcut, Tsp\n",
    "from qiskit.algorithms import VQE, NumPyMinimumEigensolver\n",
    "from qiskit.algorithms.optimizers import SPSA\n",
    "from qiskit.utils import algorithm_globals, QuantumInstance\n",
    "from qiskit_optimization.algorithms import MinimumEigenOptimizer\n",
    "from qiskit_optimization.problems import QuadraticProgram\n",
    "from docplex.mp.model import Model\n",
    "from qiskit_optimization.translators import from_docplex_mp\n",
    "\n",
    "from qiskit import Aer\n",
    "from qiskit.utils import algorithm_globals, QuantumInstance\n",
    "from qiskit.algorithms import QAOA, NumPyMinimumEigensolver"
   ]
  },
  {
   "cell_type": "code",
   "execution_count": 32,
   "id": "e8f015d4",
   "metadata": {},
   "outputs": [],
   "source": [
    "from qiskit_optimization.applications.optimization_application import OptimizationApplication\n",
    "from typing import List, Union\n",
    "class OptimalTransport(OptimizationApplication):\n",
    "#class OptimalTransport():\n",
    "    \"\"\"Optimization Application for the optimal transport problem \\\n",
    "    using linear programming formulation.\n",
    "    Reference:\n",
    "        [1]: \"Computational Optimal Transport\"\n",
    "        https://arxiv.org/abs/1803.00567\n",
    "    \"\"\"\n",
    "    \n",
    "    def __init__(self, C: List[int], \\\n",
    "                 mu: List[int], \\\n",
    "                 nu: List[int], \\\n",
    "                 p_lower_bound: int, \\\n",
    "                 p_upper_bound: int) -> None:\n",
    "        \"\"\"\n",
    "        Args:\n",
    "            C: A 2D numpy array for the cost function\n",
    "            mu: A 1D array for the row marginal\n",
    "            nu: A 1D array for the columns marginal\n",
    "        \"\"\"\n",
    "        self._C = C\n",
    "        self._mu = mu\n",
    "        self._nu = nu\n",
    "        self._p_lower_bound = p_lower_bound\n",
    "        self._p_upper_bound = p_upper_bound\n",
    "        \n",
    "    def interpret(self, result: Union[OptimizationResult, np.ndarray]) -> List[int]:\n",
    "        \"\"\"Interpret a result as item indices\n",
    "\n",
    "        Args:\n",
    "            result : The calculated result of the problem\n",
    "\n",
    "        Returns:\n",
    "            A list of items whose corresponding variable is 1\n",
    "        \"\"\"\n",
    "        x = self._result_to_x(result)\n",
    "        return [i for i, value in enumerate(x) if value]\n",
    "        \n",
    "    def buildA(self):\n",
    "        \"\"\"Create a matrix to enforce the linear programming\n",
    "        constraints. See p.38 in the reference.\n",
    "        \n",
    "        Returns:\n",
    "            A: A matrix for the constraints.\n",
    "        \"\"\"\n",
    "        m, n = len(self._C), len(self._C[0])\n",
    "        A = np.zeros((m+n, m*n), dtype = np.float64)\n",
    "        for i in range(m):\n",
    "            for j in range(m*n):\n",
    "                if j % m == i:\n",
    "                    A[i][j] = 1.\n",
    "        i = m\n",
    "        j = 0\n",
    "        while i < m+n:\n",
    "            while j < (i - m + 1) * m:\n",
    "                A[i][j] = 1.\n",
    "                j+=1\n",
    "            i += 1\n",
    "        return A\n",
    "\n",
    "    def stackColumns(self, P):\n",
    "        \"\"\"Stack the columns of a matrix into a column array.\n",
    "        Args:\n",
    "            P: A 2D matrix.\n",
    "        \n",
    "        Return:\n",
    "            p: A 1D numpy array with stack of columns from a matrix.\n",
    "        \"\"\"\n",
    "        return P.T.reshape(-1, 1)\n",
    "        \n",
    "    def to_quadratic_program(self) -> QuadraticProgram:\n",
    "        \"\"\"Convert a optimal transport problem instance into a\n",
    "        :class:`~qiskit_optimization.problems.QuadraticProgram`\n",
    "\n",
    "        Returns:\n",
    "            The :class:`~qiskit_optimization.problems.QuadraticProgram` created\n",
    "            from the optimal transport problem instance.\n",
    "        \"\"\"\n",
    "        mdl = Model(\"Optimal Transport\")\n",
    "        c = self.stackColumns(self._C).T[0]\n",
    "        x = {i: mdl.integer_var(name=f\"x_{i}\", \\\n",
    "                                lb=self._p_lower_bound, \\\n",
    "                                ub=self._p_upper_bound) \\\n",
    "             for i in range(len(c))}\n",
    "        mdl.minimize(mdl.sum(c[i]*x[i] for i in x ))\n",
    "        A = self.buildA()\n",
    "        marginal = np.append(self._mu, self._nu)\n",
    "        for row in range(len(A)):\n",
    "            mdl.add_constraint(mdl.sum(A[row][i]*x[i] for i in x)\\\n",
    "                               == marginal[row])\n",
    "        op = from_docplex_mp(mdl)\n",
    "        return op\n",
    "        "
   ]
  },
  {
   "cell_type": "code",
   "execution_count": 33,
   "id": "9db83939",
   "metadata": {},
   "outputs": [
    {
     "ename": "TypeError",
     "evalue": "Can't instantiate abstract class OptimalTransport with abstract methods interpret",
     "output_type": "error",
     "traceback": [
      "\u001b[0;31m---------------------------------------------------------------------------\u001b[0m",
      "\u001b[0;31mTypeError\u001b[0m                                 Traceback (most recent call last)",
      "\u001b[0;32m/var/folders/3f/gghtj1n50kb_x_h9vb3r4g_w0000gq/T/ipykernel_74495/4281727477.py\u001b[0m in \u001b[0;36m<module>\u001b[0;34m\u001b[0m\n\u001b[1;32m      2\u001b[0m \u001b[0mmu\u001b[0m \u001b[0;34m=\u001b[0m \u001b[0mnp\u001b[0m\u001b[0;34m.\u001b[0m\u001b[0marray\u001b[0m\u001b[0;34m(\u001b[0m\u001b[0;34m[\u001b[0m\u001b[0;36m3\u001b[0m\u001b[0;34m,\u001b[0m\u001b[0;36m1\u001b[0m\u001b[0;34m]\u001b[0m\u001b[0;34m)\u001b[0m\u001b[0;34m\u001b[0m\u001b[0;34m\u001b[0m\u001b[0m\n\u001b[1;32m      3\u001b[0m \u001b[0mnu\u001b[0m \u001b[0;34m=\u001b[0m \u001b[0mnp\u001b[0m\u001b[0;34m.\u001b[0m\u001b[0marray\u001b[0m\u001b[0;34m(\u001b[0m\u001b[0;34m[\u001b[0m\u001b[0;36m1\u001b[0m\u001b[0;34m,\u001b[0m\u001b[0;36m2\u001b[0m\u001b[0;34m,\u001b[0m\u001b[0;36m1\u001b[0m\u001b[0;34m]\u001b[0m\u001b[0;34m)\u001b[0m\u001b[0;34m\u001b[0m\u001b[0;34m\u001b[0m\u001b[0m\n\u001b[0;32m----> 4\u001b[0;31m \u001b[0mot\u001b[0m \u001b[0;34m=\u001b[0m \u001b[0mOptimalTransport\u001b[0m\u001b[0;34m(\u001b[0m\u001b[0mC\u001b[0m\u001b[0;34m,\u001b[0m \u001b[0mmu\u001b[0m\u001b[0;34m,\u001b[0m \u001b[0mnu\u001b[0m\u001b[0;34m,\u001b[0m \u001b[0;36m0\u001b[0m\u001b[0;34m,\u001b[0m \u001b[0;36m3\u001b[0m\u001b[0;34m)\u001b[0m\u001b[0;34m\u001b[0m\u001b[0;34m\u001b[0m\u001b[0m\n\u001b[0m\u001b[1;32m      5\u001b[0m \u001b[0mop\u001b[0m \u001b[0;34m=\u001b[0m \u001b[0mot\u001b[0m\u001b[0;34m.\u001b[0m\u001b[0mto_quadratic_program\u001b[0m\u001b[0;34m(\u001b[0m\u001b[0;34m)\u001b[0m\u001b[0;34m\u001b[0m\u001b[0;34m\u001b[0m\u001b[0m\n",
      "\u001b[0;31mTypeError\u001b[0m: Can't instantiate abstract class OptimalTransport with abstract methods interpret"
     ]
    }
   ],
   "source": [
    "C = np.array([[1,2,3],[4,5,6]])\n",
    "mu = np.array([3,1])\n",
    "nu = np.array([1,2,1])\n",
    "ot = OptimalTransport(C, mu, nu, 0, 3)\n",
    "op = ot.to_quadratic_program()"
   ]
  },
  {
   "cell_type": "code",
   "execution_count": 20,
   "id": "e0541fb8",
   "metadata": {},
   "outputs": [
    {
     "name": "stdout",
     "output_type": "stream",
     "text": [
      "Problem name: Optimal Transport\n",
      "\n",
      "Minimize\n",
      "  x_0 + 4*x_1 + 2*x_2 + 5*x_3 + 3*x_4 + 6*x_5\n",
      "\n",
      "Subject to\n",
      "  Linear constraints (5)\n",
      "    x_0 + x_2 + x_4 == 3  'c0'\n",
      "    x_1 + x_3 + x_5 == 1  'c1'\n",
      "    x_0 + x_1 == 1  'c2'\n",
      "    x_2 + x_3 == 2  'c3'\n",
      "    x_4 + x_5 == 1  'c4'\n",
      "\n",
      "  Integer variables (6)\n",
      "    0 <= x_0 <= 3\n",
      "    0 <= x_1 <= 3\n",
      "    0 <= x_2 <= 3\n",
      "    0 <= x_3 <= 3\n",
      "    0 <= x_4 <= 3\n",
      "    0 <= x_5 <= 3\n",
      "\n"
     ]
    }
   ],
   "source": [
    "print(op.prettyprint())"
   ]
  },
  {
   "cell_type": "code",
   "execution_count": 21,
   "id": "5f0ee9c7",
   "metadata": {},
   "outputs": [
    {
     "name": "stdout",
     "output_type": "stream",
     "text": [
      "Offset: 2495.5\n",
      "Ising Hamiltonian:\n",
      "-224.5 * IIIIIIIIIIIZ\n",
      "- 449.0 * IIIIIIIIIIZI\n",
      "- 354.0 * IIIIIIIIIZII\n",
      "- 708.0 * IIIIIIIIZIII\n",
      "- 161.0 * IIIIIIIZIIII\n",
      "- 322.0 * IIIIIIZIIIII\n",
      "- 290.5 * IIIIIZIIIIII\n",
      "- 581.0 * IIIIZIIIIIII\n",
      "- 225.5 * IIIZIIIIIIII\n",
      "- 451.0 * IIZIIIIIIIII\n",
      "- 355.0 * IZIIIIIIIIII\n",
      "- 710.0 * ZIIIIIIIIIII\n",
      "+ 128.0 * IIIIIIIIIIZZ\n",
      "+ 32.0 * IIIIIIIIIZIZ\n",
      "+ 64.0 * IIIIIIIIIZZI\n",
      "+ 64.0 * IIIIIIIIZIIZ\n",
      "+ 128.0 * IIIIIIIIZIZI\n",
      "+ 128.0 * IIIIIIIIZZII\n",
      "+ 32.0 * IIIIIIIZIIIZ\n",
      "+ 64.0 * IIIIIIIZIIZI\n",
      "+ 64.0 * IIIIIIZIIIIZ\n",
      "+ 128.0 * IIIIIIZIIIZI\n",
      "+ 128.0 * IIIIIIZZIIII\n",
      "+ 32.0 * IIIIIZIIIZII\n",
      "+ 64.0 * IIIIIZIIZIII\n",
      "+ 32.0 * IIIIIZIZIIII\n",
      "+ 64.0 * IIIIIZZIIIII\n",
      "+ 64.0 * IIIIZIIIIZII\n",
      "+ 128.0 * IIIIZIIIZIII\n",
      "+ 64.0 * IIIIZIIZIIII\n",
      "+ 128.0 * IIIIZIZIIIII\n",
      "+ 128.0 * IIIIZZIIIIII\n",
      "+ 32.0 * IIIZIIIIIIIZ\n",
      "+ 64.0 * IIIZIIIIIIZI\n",
      "+ 32.0 * IIIZIIIZIIII\n",
      "+ 64.0 * IIIZIIZIIIII\n",
      "+ 64.0 * IIZIIIIIIIIZ\n",
      "+ 128.0 * IIZIIIIIIIZI\n",
      "+ 64.0 * IIZIIIIZIIII\n",
      "+ 128.0 * IIZIIIZIIIII\n",
      "+ 128.0 * IIZZIIIIIIII\n",
      "+ 32.0 * IZIIIIIIIZII\n",
      "+ 64.0 * IZIIIIIIZIII\n",
      "+ 32.0 * IZIIIZIIIIII\n",
      "+ 64.0 * IZIIZIIIIIII\n",
      "+ 32.0 * IZIZIIIIIIII\n",
      "+ 64.0 * IZZIIIIIIIII\n",
      "+ 64.0 * ZIIIIIIIIZII\n",
      "+ 128.0 * ZIIIIIIIZIII\n",
      "+ 64.0 * ZIIIIZIIIIII\n",
      "+ 128.0 * ZIIIZIIIIIII\n",
      "+ 64.0 * ZIIZIIIIIIII\n",
      "+ 128.0 * ZIZIIIIIIIII\n",
      "+ 128.0 * ZZIIIIIIIIII\n"
     ]
    }
   ],
   "source": [
    "from qiskit_optimization.converters import QuadraticProgramToQubo\n",
    "\n",
    "qp2qubo = QuadraticProgramToQubo()\n",
    "qubo = qp2qubo.convert(op)\n",
    "qubitOp, offset = qubo.to_ising()\n",
    "print(\"Offset:\", offset)\n",
    "print(\"Ising Hamiltonian:\")\n",
    "print(str(qubitOp))"
   ]
  },
  {
   "cell_type": "code",
   "execution_count": 22,
   "id": "9b75e60f",
   "metadata": {},
   "outputs": [
    {
     "name": "stdout",
     "output_type": "stream",
     "text": [
      "objective function value: 11.0\n",
      "variable values: x_0=1.0, x_1=0.0, x_2=1.0, x_3=1.0, x_4=1.0, x_5=0.0\n",
      "status: SUCCESS\n"
     ]
    }
   ],
   "source": [
    "# solving Quadratic Program using exact classical eigensolver\n",
    "exact = MinimumEigenOptimizer(NumPyMinimumEigensolver())\n",
    "result = exact.solve(op)\n",
    "print(result.prettyprint())"
   ]
  },
  {
   "cell_type": "code",
   "execution_count": 23,
   "id": "babc8843",
   "metadata": {},
   "outputs": [],
   "source": [
    "algorithm_globals.random_seed = 123\n",
    "seed = 321\n",
    "backend = Aer.get_backend(\"aer_simulator_statevector\")\n",
    "quantum_instance = QuantumInstance(backend, seed_simulator=seed, seed_transpiler=seed)"
   ]
  },
  {
   "cell_type": "code",
   "execution_count": 24,
   "id": "ecf9d68a",
   "metadata": {},
   "outputs": [],
   "source": [
    "# construct VQE\n",
    "spsa = SPSA(maxiter=300)\n",
    "ry = TwoLocal(qubitOp.num_qubits, \"ry\", \"cz\", reps=5, entanglement=\"linear\")\n",
    "vqe = VQE(ry, optimizer=spsa, quantum_instance=quantum_instance)\n",
    "\n",
    "# run VQE\n",
    "result = vqe.compute_minimum_eigenvalue(qubitOp)\n",
    "\n"
   ]
  },
  {
   "cell_type": "code",
   "execution_count": 31,
   "id": "982648d1",
   "metadata": {},
   "outputs": [
    {
     "ename": "AttributeError",
     "evalue": "'OptimalTransport' object has no attribute 'sample_most_likely'",
     "output_type": "error",
     "traceback": [
      "\u001b[0;31m---------------------------------------------------------------------------\u001b[0m",
      "\u001b[0;31mAttributeError\u001b[0m                            Traceback (most recent call last)",
      "\u001b[0;32m/var/folders/3f/gghtj1n50kb_x_h9vb3r4g_w0000gq/T/ipykernel_74495/3463235465.py\u001b[0m in \u001b[0;36m<module>\u001b[0;34m\u001b[0m\n\u001b[0;32m----> 1\u001b[0;31m \u001b[0mx\u001b[0m \u001b[0;34m=\u001b[0m \u001b[0mot\u001b[0m\u001b[0;34m.\u001b[0m\u001b[0msample_most_likely\u001b[0m\u001b[0;34m(\u001b[0m\u001b[0mresult\u001b[0m\u001b[0;34m.\u001b[0m\u001b[0meigenstate\u001b[0m\u001b[0;34m)\u001b[0m\u001b[0;34m\u001b[0m\u001b[0;34m\u001b[0m\u001b[0m\n\u001b[0m",
      "\u001b[0;31mAttributeError\u001b[0m: 'OptimalTransport' object has no attribute 'sample_most_likely'"
     ]
    }
   ],
   "source": [
    "x = ot.sample_most_likely(result.eigenstate)"
   ]
  },
  {
   "cell_type": "code",
   "execution_count": 30,
   "id": "5dee54cd",
   "metadata": {},
   "outputs": [
    {
     "name": "stdout",
     "output_type": "stream",
     "text": [
      "[-1.29017506e-04+0.j  1.55290895e-04+0.j  1.02528097e-03+0.j ...\n",
      " -1.20828394e-05+0.j -6.78599519e-06+0.j  1.17320860e-05+0.j]\n"
     ]
    }
   ],
   "source": [
    "print(result.eigenstate)"
   ]
  },
  {
   "cell_type": "code",
   "execution_count": null,
   "id": "c9c4d33b",
   "metadata": {},
   "outputs": [],
   "source": [
    "# print results\n",
    "x = max_cut.sample_most_likely(result.eigenstate)\n",
    "print(\"energy:\", result.eigenvalue.real)\n",
    "print(\"time:\", result.optimizer_time)\n",
    "print(\"max-cut objective:\", result.eigenvalue.real + offset)\n",
    "print(\"solution:\", x)\n",
    "print(\"solution objective:\", qp.objective.evaluate(x))\n",
    "\n",
    "# plot results\n",
    "colors = [\"r\" if x[i] == 0 else \"c\" for i in range(n)]\n",
    "draw_graph(G, colors, pos)"
   ]
  }
 ],
 "metadata": {
  "kernelspec": {
   "display_name": "Python 3 (ipykernel)",
   "language": "python",
   "name": "python3"
  },
  "language_info": {
   "codemirror_mode": {
    "name": "ipython",
    "version": 3
   },
   "file_extension": ".py",
   "mimetype": "text/x-python",
   "name": "python",
   "nbconvert_exporter": "python",
   "pygments_lexer": "ipython3",
   "version": "3.7.4"
  }
 },
 "nbformat": 4,
 "nbformat_minor": 5
}
